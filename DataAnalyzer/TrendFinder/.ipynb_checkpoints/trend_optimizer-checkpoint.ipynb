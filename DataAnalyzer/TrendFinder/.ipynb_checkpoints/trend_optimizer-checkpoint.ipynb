{
 "cells": [
  {
   "cell_type": "markdown",
   "id": "7fa3aa23-e2e2-4a6b-94e9-dfb4271bf2b0",
   "metadata": {},
   "source": [
    "Notebook for optimizing the trend analyzer code.\n",
    "To run the notebook, run the command \"jupyter notebook --ip=0.0.0.0 --port=5000 --allow-root --no-browser\". Then open the webpage that opens in replit in a new tab, and enter the token for the server you find from the command \"jupter server list\". If you enter the token in the replit preview it will give you a 403 error."
   ]
  },
  {
   "cell_type": "code",
   "execution_count": null,
   "id": "868f8830-df75-40f4-844e-371030acf6f7",
   "metadata": {},
   "outputs": [],
   "source": [
    "#import necessary modules\n",
    "import modules\n",
    "import os\n",
    "import mlflow"
   ]
  },
  {
   "cell_type": "code",
   "execution_count": null,
   "id": "23fb65a5-c9f6-453d-9284-fad6223d3124",
   "metadata": {},
   "outputs": [],
   "source": [
    "#setup dspy\n",
    "api_key = os.environ['paul2']\n",
    "lm = dspy.LM('gemini/gemini-2.5-flash', api_key=api_key, max_tokens=8000)\n",
    "dspy.configure(lm=lm)"
   ]
  },
  {
   "cell_type": "code",
   "execution_count": 1,
   "id": "e90763c2-6526-4821-8575-64804dcb353c",
   "metadata": {},
   "outputs": [
    {
     "name": "stdout",
     "output_type": "stream",
     "text": [
      "hello world\n"
     ]
    }
   ],
   "source": [
    "print(\"hello world\")"
   ]
  },
  {
   "cell_type": "code",
   "execution_count": null,
   "id": "0dd921eb-5851-448a-9dd4-aa8ece445a7b",
   "metadata": {},
   "outputs": [],
   "source": []
  }
 ],
 "metadata": {
  "kernelspec": {
   "display_name": "Python 3 (ipykernel)",
   "language": "python",
   "name": "python3"
  },
  "language_info": {
   "codemirror_mode": {
    "name": "ipython",
    "version": 3
   },
   "file_extension": ".py",
   "mimetype": "text/x-python",
   "name": "python",
   "nbconvert_exporter": "python",
   "pygments_lexer": "ipython3",
   "version": "3.11.10"
  }
 },
 "nbformat": 4,
 "nbformat_minor": 5
}
